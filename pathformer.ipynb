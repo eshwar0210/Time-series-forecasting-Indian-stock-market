{
 "cells": [
  {
   "cell_type": "code",
   "execution_count": 5,
   "metadata": {},
   "outputs": [
    {
     "name": "stdout",
     "output_type": "stream",
     "text": [
      "Running command: python -u run.py --is_training 1 --model PathFormer --model_id finance_cipla_48_48 --data custom --root_path ./dataset/finance --data_path CIPLA.csv --features MS --freq d --target Close --seq_len 48 --pred_len 48 --d_model 8 --d_ff 64 --num_nodes 9 --layer_nums 3 --k 2 --patch_size_list 16 12 8 4 12 8 6 4 8 6 2 12 --residual_connection 1 --train_epochs 20 --patience 10 --lradj TST --itr 1 --batch_size 32 --learning_rate 0.001\n"
     ]
    }
   ],
   "source": [
    "import os\n",
    "import subprocess\n",
    "\n",
    "# Ensure directories exist\n",
    "if not os.path.exists(\"./logs\"):\n",
    "    os.makedirs(\"./logs\")\n",
    "if not os.path.exists(\"./logs/LongForecasting\"):\n",
    "    os.makedirs(\"./logs/LongForecasting\")\n",
    "\n",
    "seq_len = 48\n",
    "model_name = \"PathFormer\"\n",
    "root_path_name = \"./dataset/finance\"\n",
    "data_path_name = \"CIPLA.csv\"\n",
    "model_id_name = \"finance_cipla\"\n",
    "data_name = \"custom\"\n",
    "\n",
    "\n",
    "for pred_len in [48]:\n",
    "    cmd = [\n",
    "        # basic config\n",
    "        \"python\", \"-u\", \"run.py\",\n",
    "        \"--is_training\", \"1\",\n",
    "        \"--model\", model_name,\n",
    "        \"--model_id\", f\"{model_id_name}_{seq_len}_{pred_len}\",\n",
    "\n",
    "        # data loader\n",
    "        \"--data\", data_name,\n",
    "        \"--root_path\", root_path_name,\n",
    "        \"--data_path\", data_path_name,\n",
    "        \"--features\", \"MS\",\n",
    "        \"--freq\" , \"d\" ,\n",
    "        \"--target\",\"Close\",\n",
    "\n",
    "        # forecasting task\n",
    "        \"--seq_len\", str(seq_len),\n",
    "        \"--pred_len\", str(pred_len),\n",
    "\n",
    "        \"--d_model\", \"8\",\n",
    "        \"--d_ff\", \"64\",\n",
    "        \"--num_nodes\", \"9\",\n",
    "        \"--layer_nums\", \"3\",\n",
    "        \"--k\" ,\"2\" ,\n",
    "        \"--patch_size_list\",  \"16\" , \"12\", \"8\", \"4\", \"12\", \"8\", \"6\" ,\"4\", \"8\", \"6\" ,\"2\", \"12\",\n",
    "        \"--residual_connection\", \"1\",\n",
    "\n",
    "        \"--train_epochs\", \"20\",\n",
    "        \"--patience\", \"10\",\n",
    "        \"--lradj\", \"TST\",\n",
    "        \"--itr\", \"1\",\n",
    "        \"--batch_size\", \"32\",\n",
    "        \"--learning_rate\", \"0.001\"\n",
    "    ]\n",
    "    \n",
    "    log_file = f\"logs/LongForecasting/{model_name}_{model_id_name}_{seq_len}_{pred_len}.log\"\n",
    "\n",
    "    print(f\"Running command: {' '.join(cmd)}\")\n",
    "    try:\n",
    "        with open(log_file, \"a\") as log:\n",
    "            result = subprocess.run(cmd, stdout=log, stderr=subprocess.PIPE, check=True)\n",
    "    except subprocess.CalledProcessError as e:\n",
    "        print(f\"Command failed with exit code {e.returncode}\")\n",
    "        print(f\"Error output:\\n{e.stderr.decode()}\")\n",
    "\n",
    "\n"
   ]
  }
 ],
 "metadata": {
  "kernelspec": {
   "display_name": "base",
   "language": "python",
   "name": "python3"
  },
  "language_info": {
   "codemirror_mode": {
    "name": "ipython",
    "version": 3
   },
   "file_extension": ".py",
   "mimetype": "text/x-python",
   "name": "python",
   "nbconvert_exporter": "python",
   "pygments_lexer": "ipython3",
   "version": "3.11.4"
  }
 },
 "nbformat": 4,
 "nbformat_minor": 2
}
